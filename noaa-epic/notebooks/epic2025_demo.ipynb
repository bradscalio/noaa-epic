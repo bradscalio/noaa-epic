{
  "cells": [
    {
      "cell_type": "markdown",
      "metadata": {},
      "source": [
        "# EPIC 2025 \u2014 NOAA AI Weather Demo\n",
        "This notebook references images published under `docs/epic2025/assets/`.\n",
        "Use Dev Spaces or local Jupyter to reproduce the figures."
      ]
    },
    {
      "cell_type": "code",
      "execution_count": 1,
      "metadata": {},
      "outputs": [],
      "source": [
        "from IPython.display import Image, display\n",
        "display(Image(filename='../docs/epic2025/assets/ai_pred_reflectivity_21Z.png'))"
      ]
    }
  ],
  "metadata": {
    "kernelspec": {
      "display_name": "Python 3",
      "language": "python",
      "name": "python3"
    }
  },
  "nbformat": 4,
  "nbformat_minor": 5
}